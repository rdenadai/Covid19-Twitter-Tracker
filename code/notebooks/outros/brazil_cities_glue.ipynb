{
 "cells": [
  {
   "cell_type": "code",
   "execution_count": 6,
   "metadata": {
    "ExecuteTime": {
     "end_time": "2020-06-12T13:29:17.802492Z",
     "start_time": "2020-06-12T13:29:17.799767Z"
    }
   },
   "outputs": [
    {
     "name": "stdout",
     "output_type": "stream",
     "text": [
      "/ssd/programas/Covid19-Twitter-Tracker/\n"
     ]
    }
   ],
   "source": [
    "import os\n",
    "\n",
    "path = os.getcwd().split(\"code\")[0]\n",
    "\n",
    "print(path)"
   ]
  },
  {
   "cell_type": "code",
   "execution_count": 7,
   "metadata": {
    "ExecuteTime": {
     "end_time": "2020-06-12T13:29:18.105966Z",
     "start_time": "2020-06-12T13:29:18.051665Z"
    }
   },
   "outputs": [],
   "source": [
    "from string import punctuation\n",
    "from unicodedata import normalize\n",
    "\n",
    "import pandas as pd\n",
    "\n",
    "def remover_acentos(txt):\n",
    "    return normalize(\"NFKD\", txt).encode(\"ASCII\", \"ignore\").decode(\"ASCII\")"
   ]
  },
  {
   "cell_type": "code",
   "execution_count": 8,
   "metadata": {
    "ExecuteTime": {
     "end_time": "2020-06-12T13:29:18.341497Z",
     "start_time": "2020-06-12T13:29:18.250849Z"
    }
   },
   "outputs": [],
   "source": [
    "df = pd.read_csv(f\"{path}code/data/processed/brazil_cities_geo.csv\")\n",
    "df[\"estado\"] = \"\"\n",
    "df[\"regiao\"] = \"\"\n",
    "df = df.drop([\"nomeabrev\"], axis=1)\n",
    "df2 = pd.read_csv(f\"{path}code/data/processed/brazil_cities_region.csv\", sep=\";\", encoding=\"ISO-8859-1\")"
   ]
  },
  {
   "cell_type": "code",
   "execution_count": 9,
   "metadata": {
    "ExecuteTime": {
     "end_time": "2020-06-12T13:29:22.182504Z",
     "start_time": "2020-06-12T13:29:18.584124Z"
    },
    "scrolled": true
   },
   "outputs": [],
   "source": [
    "for idx, row in df.iterrows():\n",
    "    dados = df2[df2[\"Município\"] == row[\"nome\"]].to_numpy()\n",
    "    if len(dados) > 0:\n",
    "        dados = dados[0]\n",
    "        df.at[idx, \"estado\"] = dados[0]\n",
    "        df.at[idx, \"regiao\"] = dados[2]"
   ]
  },
  {
   "cell_type": "code",
   "execution_count": 10,
   "metadata": {
    "ExecuteTime": {
     "end_time": "2020-06-12T13:29:59.991420Z",
     "start_time": "2020-06-12T13:29:59.986516Z"
    }
   },
   "outputs": [],
   "source": [
    "df = df.rename(columns={\"id_cidade\": \"id\", \"LATITUDE\": \"lat\", \"LONGITUDE\": \"lng\"})\n",
    "df = df.reset_index()"
   ]
  },
  {
   "cell_type": "code",
   "execution_count": 5,
   "metadata": {
    "ExecuteTime": {
     "end_time": "2020-05-11T19:14:24.684873Z",
     "start_time": "2020-05-11T19:14:24.555754Z"
    }
   },
   "outputs": [],
   "source": [
    "df.to_csv(f\"{path}code/data/processed/brazil_cities_final.csv\")"
   ]
  },
  {
   "cell_type": "code",
   "execution_count": null,
   "metadata": {},
   "outputs": [],
   "source": []
  }
 ],
 "metadata": {
  "hide_input": false,
  "kernelspec": {
   "display_name": "Python 3.8.3 64-bit ('.pyenv': pyenv)",
   "language": "python",
   "name": "python38364bitpyenvpyenvf383a273afc544aa9658c2497c26a21c"
  },
  "language_info": {
   "codemirror_mode": {
    "name": "ipython",
    "version": 3
   },
   "file_extension": ".py",
   "mimetype": "text/x-python",
   "name": "python",
   "nbconvert_exporter": "python",
   "pygments_lexer": "ipython3",
   "version": "3.8.3"
  },
  "toc": {
   "base_numbering": 1,
   "nav_menu": {},
   "number_sections": true,
   "sideBar": true,
   "skip_h1_title": false,
   "title_cell": "Table of Contents",
   "title_sidebar": "Contents",
   "toc_cell": false,
   "toc_position": {},
   "toc_section_display": true,
   "toc_window_display": false
  }
 },
 "nbformat": 4,
 "nbformat_minor": 4
}
